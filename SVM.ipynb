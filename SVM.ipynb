{
 "cells": [
  {
   "cell_type": "markdown",
   "id": "8ede51c6-7a19-4670-9e96-e7f1a1787cea",
   "metadata": {},
   "source": [
    "# SVMでjslを学習する"
   ]
  },
  {
   "cell_type": "code",
   "execution_count": 3,
   "id": "25025e54-d247-496b-bdfb-c03cc17ddb69",
   "metadata": {},
   "outputs": [],
   "source": [
    "import numpy as np\n",
    "import csv\n",
    "import glob\n",
    "import pickle\n",
    "from sklearn.model_selection import train_test_split, cross_val_score\n",
    "from sklearn.svm import SVC\n",
    "from sklearn.metrics import accuracy_score, confusion_matrix\n",
    "import seaborn as sns\n",
    "import matplotlib.pyplot as plt\n",
    "from tqdm import tqdm"
   ]
  },
  {
   "cell_type": "markdown",
   "id": "b83d3bae-473c-4148-ac69-e9f7185c0b83",
   "metadata": {},
   "source": [
    "## ソースフォルダと試すパラメータを設定する"
   ]
  },
  {
   "cell_type": "code",
   "execution_count": 4,
   "id": "e86da5da-1bd8-487a-98c3-9829693f02af",
   "metadata": {},
   "outputs": [
    {
     "name": "stdin",
     "output_type": "stream",
     "text": [
      "どちらの学習を行いますか？\n",
      "depthcamera:0\n",
      "mediapipe\n",
      " 0\n"
     ]
    }
   ],
   "source": [
    "#folder\n",
    "inp = input('どちらの学習を行いますか？\\ndepthcamera:0\\nmediapipe\\n')\n",
    "if inp == '0':\n",
    "    in_folder=\"./data/features/dist_angle/*.csv\"\n",
    "elif inp == '1':\n",
    "    in_folder=\"./data/features/dist_angle_m/*.csv\"\n",
    "else:\n",
    "    print('設定されていない命令です')\n",
    "    exit(0)\n",
    "\n",
    "\n",
    "#parameters\n",
    "C1=1\n",
    "C2=10\n",
    "C3=100\n",
    "C4=1000\n",
    "\n",
    "gamma1=0.1\n",
    "gamma2=0.05\n",
    "gamma3=0.01\n",
    "gamma4=0.005\n",
    "gamma5=0.001\n",
    "gamma6=0.0005\n",
    "\n",
    "#angle, dist+angle\n",
    "#C=1,10,100,1000\n",
    "#γ=0.1,0.05,0.01,0.005,0.001,0.0005\n",
    "\n",
    "#angle\n",
    "#C=1,10,100,1000\n",
    "#γ=0.05,0.01,0.005,0.001,0.0005,0.0001\n",
    "\n",
    "#dist\n",
    "#C=100,1000,1500,2000\n",
    "#γ=1,0.7,0.5,0.3,0.1,0.05\n",
    "\n",
    "#-------------------------------------#\n"
   ]
  },
  {
   "cell_type": "markdown",
   "id": "7a671efc-0249-41b5-ac6c-eba339fdc4fb",
   "metadata": {},
   "source": [
    "## ソースフォルダから特徴値の入ったCSVファイルを読み込む"
   ]
  },
  {
   "cell_type": "code",
   "execution_count": 5,
   "id": "bee7128b-7eac-4506-9543-fa03d3ce434e",
   "metadata": {},
   "outputs": [
    {
     "name": "stderr",
     "output_type": "stream",
     "text": [
      "  1%|▋                                              | 543/38113 [00:00<01:13, 513.57it/s]"
     ]
    },
    {
     "name": "stdout",
     "output_type": "stream",
     "text": [
      "削除対象が見つかりました\n"
     ]
    },
    {
     "name": "stderr",
     "output_type": "stream",
     "text": [
      "  3%|█▍                                            | 1151/38113 [00:02<01:08, 536.81it/s]"
     ]
    },
    {
     "name": "stdout",
     "output_type": "stream",
     "text": [
      "削除対象が見つかりました\n",
      "削除対象が見つかりました\n",
      "削除対象が見つかりました\n"
     ]
    },
    {
     "name": "stderr",
     "output_type": "stream",
     "text": [
      "  5%|██▎                                           | 1877/38113 [00:03<00:54, 667.79it/s]"
     ]
    },
    {
     "name": "stdout",
     "output_type": "stream",
     "text": [
      "削除対象が見つかりました\n"
     ]
    },
    {
     "name": "stderr",
     "output_type": "stream",
     "text": [
      "  6%|██▋                                           | 2277/38113 [00:04<01:04, 555.43it/s]"
     ]
    },
    {
     "name": "stdout",
     "output_type": "stream",
     "text": [
      "削除対象が見つかりました\n"
     ]
    },
    {
     "name": "stderr",
     "output_type": "stream",
     "text": [
      "  6%|██▉                                           | 2437/38113 [00:04<01:12, 493.76it/s]"
     ]
    },
    {
     "name": "stdout",
     "output_type": "stream",
     "text": [
      "削除対象が見つかりました\n"
     ]
    },
    {
     "name": "stderr",
     "output_type": "stream",
     "text": [
      "  8%|███▍                                          | 2870/38113 [00:05<01:01, 572.45it/s]"
     ]
    },
    {
     "name": "stdout",
     "output_type": "stream",
     "text": [
      "削除対象が見つかりました\n",
      "削除対象が見つかりました\n"
     ]
    },
    {
     "name": "stderr",
     "output_type": "stream",
     "text": [
      "  8%|███▊                                          | 3188/38113 [00:05<01:05, 537.17it/s]"
     ]
    },
    {
     "name": "stdout",
     "output_type": "stream",
     "text": [
      "削除対象が見つかりました\n",
      "削除対象が見つかりました\n"
     ]
    },
    {
     "name": "stderr",
     "output_type": "stream",
     "text": [
      "  9%|███▉                                          | 3297/38113 [00:06<01:06, 526.77it/s]"
     ]
    },
    {
     "name": "stdout",
     "output_type": "stream",
     "text": [
      "削除対象が見つかりました\n"
     ]
    },
    {
     "name": "stderr",
     "output_type": "stream",
     "text": [
      " 10%|████▍                                         | 3632/38113 [00:06<01:03, 543.12it/s]"
     ]
    },
    {
     "name": "stdout",
     "output_type": "stream",
     "text": [
      "削除対象が見つかりました\n",
      "削除対象が見つかりました\n"
     ]
    },
    {
     "name": "stderr",
     "output_type": "stream",
     "text": [
      " 10%|████▊                                         | 3960/38113 [00:07<01:03, 537.23it/s]"
     ]
    },
    {
     "name": "stdout",
     "output_type": "stream",
     "text": [
      "削除対象が見つかりました\n"
     ]
    },
    {
     "name": "stderr",
     "output_type": "stream",
     "text": [
      " 11%|████▉                                         | 4068/38113 [00:07<01:05, 520.06it/s]"
     ]
    },
    {
     "name": "stdout",
     "output_type": "stream",
     "text": [
      "削除対象が見つかりました\n",
      "削除対象が見つかりました\n"
     ]
    },
    {
     "name": "stderr",
     "output_type": "stream",
     "text": [
      " 11%|█████                                         | 4186/38113 [00:07<01:03, 538.45it/s]"
     ]
    },
    {
     "name": "stdout",
     "output_type": "stream",
     "text": [
      "削除対象が見つかりました\n",
      "削除対象が見つかりました\n"
     ]
    },
    {
     "name": "stderr",
     "output_type": "stream",
     "text": [
      " 13%|█████▊                                        | 4811/38113 [00:08<01:04, 516.75it/s]"
     ]
    },
    {
     "name": "stdout",
     "output_type": "stream",
     "text": [
      "削除対象が見つかりました\n"
     ]
    },
    {
     "name": "stderr",
     "output_type": "stream",
     "text": [
      " 14%|██████▎                                       | 5257/38113 [00:09<01:15, 434.45it/s]"
     ]
    },
    {
     "name": "stdout",
     "output_type": "stream",
     "text": [
      "削除対象が見つかりました\n"
     ]
    },
    {
     "name": "stderr",
     "output_type": "stream",
     "text": [
      " 15%|██████▊                                       | 5690/38113 [00:10<00:56, 573.42it/s]"
     ]
    },
    {
     "name": "stdout",
     "output_type": "stream",
     "text": [
      "削除対象が見つかりました\n"
     ]
    },
    {
     "name": "stderr",
     "output_type": "stream",
     "text": [
      " 17%|███████▉                                      | 6548/38113 [00:12<01:03, 496.22it/s]"
     ]
    },
    {
     "name": "stdout",
     "output_type": "stream",
     "text": [
      "削除対象が見つかりました\n"
     ]
    },
    {
     "name": "stderr",
     "output_type": "stream",
     "text": [
      " 18%|████████                                      | 6724/38113 [00:12<00:56, 560.04it/s]"
     ]
    },
    {
     "name": "stdout",
     "output_type": "stream",
     "text": [
      "削除対象が見つかりました\n",
      "削除対象が見つかりました\n",
      "削除対象が見つかりました\n",
      "削除対象が見つかりました\n"
     ]
    },
    {
     "name": "stderr",
     "output_type": "stream",
     "text": [
      " 20%|█████████                                     | 7461/38113 [00:14<00:43, 705.16it/s]"
     ]
    },
    {
     "name": "stdout",
     "output_type": "stream",
     "text": [
      "削除対象が見つかりました\n"
     ]
    },
    {
     "name": "stderr",
     "output_type": "stream",
     "text": [
      " 20%|█████████▎                                    | 7670/38113 [00:14<00:49, 611.44it/s]"
     ]
    },
    {
     "name": "stdout",
     "output_type": "stream",
     "text": [
      "削除対象が見つかりました\n",
      "削除対象が見つかりました\n"
     ]
    },
    {
     "name": "stderr",
     "output_type": "stream",
     "text": [
      " 21%|█████████▍                                    | 7847/38113 [00:14<00:56, 532.50it/s]"
     ]
    },
    {
     "name": "stdout",
     "output_type": "stream",
     "text": [
      "削除対象が見つかりました\n"
     ]
    },
    {
     "name": "stderr",
     "output_type": "stream",
     "text": [
      " 21%|█████████▊                                    | 8118/38113 [00:15<00:59, 506.48it/s]"
     ]
    },
    {
     "name": "stdout",
     "output_type": "stream",
     "text": [
      "削除対象が見つかりました\n",
      "削除対象が見つかりました\n"
     ]
    },
    {
     "name": "stderr",
     "output_type": "stream",
     "text": [
      " 22%|█████████▉                                    | 8227/38113 [00:15<00:57, 524.00it/s]"
     ]
    },
    {
     "name": "stdout",
     "output_type": "stream",
     "text": [
      "削除対象が見つかりました\n"
     ]
    },
    {
     "name": "stderr",
     "output_type": "stream",
     "text": [
      " 22%|██████████▎                                   | 8522/38113 [00:15<00:42, 691.48it/s]"
     ]
    },
    {
     "name": "stdout",
     "output_type": "stream",
     "text": [
      "削除対象が見つかりました\n"
     ]
    },
    {
     "name": "stderr",
     "output_type": "stream",
     "text": [
      " 23%|██████████▍                                   | 8670/38113 [00:16<00:42, 693.48it/s]"
     ]
    },
    {
     "name": "stdout",
     "output_type": "stream",
     "text": [
      "削除対象が見つかりました\n",
      "削除対象が見つかりました\n"
     ]
    },
    {
     "name": "stderr",
     "output_type": "stream",
     "text": [
      " 24%|███████████                                   | 9205/38113 [00:17<00:55, 524.97it/s]"
     ]
    },
    {
     "name": "stdout",
     "output_type": "stream",
     "text": [
      "削除対象が見つかりました\n",
      "削除対象が見つかりました\n",
      "削除対象が見つかりました\n"
     ]
    },
    {
     "name": "stderr",
     "output_type": "stream",
     "text": [
      " 26%|███████████▊                                  | 9774/38113 [00:18<00:50, 564.26it/s]"
     ]
    },
    {
     "name": "stdout",
     "output_type": "stream",
     "text": [
      "削除対象が見つかりました\n"
     ]
    },
    {
     "name": "stderr",
     "output_type": "stream",
     "text": [
      " 28%|████████████▍                                | 10544/38113 [00:19<00:53, 513.14it/s]"
     ]
    },
    {
     "name": "stdout",
     "output_type": "stream",
     "text": [
      "削除対象が見つかりました\n"
     ]
    },
    {
     "name": "stderr",
     "output_type": "stream",
     "text": [
      " 29%|█████████████                                | 11079/38113 [00:20<00:52, 518.30it/s]"
     ]
    },
    {
     "name": "stdout",
     "output_type": "stream",
     "text": [
      "削除対象が見つかりました\n"
     ]
    },
    {
     "name": "stderr",
     "output_type": "stream",
     "text": [
      " 29%|█████████████▏                               | 11190/38113 [00:20<00:50, 533.81it/s]"
     ]
    },
    {
     "name": "stdout",
     "output_type": "stream",
     "text": [
      "削除対象が見つかりました\n"
     ]
    },
    {
     "name": "stderr",
     "output_type": "stream",
     "text": [
      " 30%|█████████████▍                               | 11409/38113 [00:21<00:41, 649.34it/s]"
     ]
    },
    {
     "name": "stdout",
     "output_type": "stream",
     "text": [
      "削除対象が見つかりました\n"
     ]
    },
    {
     "name": "stderr",
     "output_type": "stream",
     "text": [
      " 30%|█████████████▌                               | 11538/38113 [00:21<00:44, 593.60it/s]"
     ]
    },
    {
     "name": "stdout",
     "output_type": "stream",
     "text": [
      "削除対象が見つかりました\n",
      "削除対象が見つかりました\n"
     ]
    },
    {
     "name": "stderr",
     "output_type": "stream",
     "text": [
      " 32%|██████████████▌                              | 12365/38113 [00:23<00:47, 541.65it/s]"
     ]
    },
    {
     "name": "stdout",
     "output_type": "stream",
     "text": [
      "削除対象が見つかりました\n"
     ]
    },
    {
     "name": "stderr",
     "output_type": "stream",
     "text": [
      " 33%|██████████████▉                              | 12617/38113 [00:23<00:42, 595.29it/s]"
     ]
    },
    {
     "name": "stdout",
     "output_type": "stream",
     "text": [
      "削除対象が見つかりました\n"
     ]
    },
    {
     "name": "stderr",
     "output_type": "stream",
     "text": [
      " 34%|███████████████▏                             | 12858/38113 [00:23<00:44, 563.21it/s]"
     ]
    },
    {
     "name": "stdout",
     "output_type": "stream",
     "text": [
      "削除対象が見つかりました\n",
      "削除対象が見つかりました\n"
     ]
    },
    {
     "name": "stderr",
     "output_type": "stream",
     "text": [
      " 37%|████████████████▊                            | 14203/38113 [00:26<00:38, 622.18it/s]"
     ]
    },
    {
     "name": "stdout",
     "output_type": "stream",
     "text": [
      "削除対象が見つかりました\n",
      "削除対象が見つかりました\n"
     ]
    },
    {
     "name": "stderr",
     "output_type": "stream",
     "text": [
      " 38%|█████████████████                            | 14414/38113 [00:26<00:38, 612.47it/s]"
     ]
    },
    {
     "name": "stdout",
     "output_type": "stream",
     "text": [
      "削除対象が見つかりました\n"
     ]
    },
    {
     "name": "stderr",
     "output_type": "stream",
     "text": [
      " 39%|█████████████████▎                           | 14697/38113 [00:27<00:48, 485.15it/s]"
     ]
    },
    {
     "name": "stdout",
     "output_type": "stream",
     "text": [
      "削除対象が見つかりました\n",
      "削除対象が見つかりました\n"
     ]
    },
    {
     "name": "stderr",
     "output_type": "stream",
     "text": [
      " 39%|█████████████████▌                           | 14914/38113 [00:27<00:45, 508.16it/s]"
     ]
    },
    {
     "name": "stdout",
     "output_type": "stream",
     "text": [
      "削除対象が見つかりました\n"
     ]
    },
    {
     "name": "stderr",
     "output_type": "stream",
     "text": [
      " 40%|█████████████████▊                           | 15073/38113 [00:27<00:45, 508.79it/s]"
     ]
    },
    {
     "name": "stdout",
     "output_type": "stream",
     "text": [
      "削除対象が見つかりました\n"
     ]
    },
    {
     "name": "stderr",
     "output_type": "stream",
     "text": [
      " 40%|█████████████████▊                           | 15126/38113 [00:28<00:44, 512.36it/s]"
     ]
    },
    {
     "name": "stdout",
     "output_type": "stream",
     "text": [
      "削除対象が見つかりました\n",
      "削除対象が見つかりました\n"
     ]
    },
    {
     "name": "stderr",
     "output_type": "stream",
     "text": [
      " 40%|██████████████████                           | 15298/38113 [00:28<00:47, 481.37it/s]"
     ]
    },
    {
     "name": "stdout",
     "output_type": "stream",
     "text": [
      "削除対象が見つかりました\n"
     ]
    },
    {
     "name": "stderr",
     "output_type": "stream",
     "text": [
      " 40%|██████████████████▏                          | 15432/38113 [00:28<00:41, 549.01it/s]"
     ]
    },
    {
     "name": "stdout",
     "output_type": "stream",
     "text": [
      "削除対象が見つかりました\n"
     ]
    },
    {
     "name": "stderr",
     "output_type": "stream",
     "text": [
      " 41%|██████████████████▌                          | 15671/38113 [00:29<00:40, 548.38it/s]"
     ]
    },
    {
     "name": "stdout",
     "output_type": "stream",
     "text": [
      "削除対象が見つかりました\n"
     ]
    },
    {
     "name": "stderr",
     "output_type": "stream",
     "text": [
      " 42%|██████████████████▉                          | 16000/38113 [00:29<00:42, 520.21it/s]"
     ]
    },
    {
     "name": "stdout",
     "output_type": "stream",
     "text": [
      "削除対象が見つかりました\n"
     ]
    },
    {
     "name": "stderr",
     "output_type": "stream",
     "text": [
      " 44%|███████████████████▊                         | 16808/38113 [00:31<00:41, 519.00it/s]"
     ]
    },
    {
     "name": "stdout",
     "output_type": "stream",
     "text": [
      "削除対象が見つかりました\n"
     ]
    },
    {
     "name": "stderr",
     "output_type": "stream",
     "text": [
      " 45%|████████████████████▏                        | 17073/38113 [00:31<00:32, 640.35it/s]"
     ]
    },
    {
     "name": "stdout",
     "output_type": "stream",
     "text": [
      "削除対象が見つかりました\n",
      "削除対象が見つかりました\n"
     ]
    },
    {
     "name": "stderr",
     "output_type": "stream",
     "text": [
      " 48%|█████████████████████▍                       | 18138/38113 [00:33<00:37, 529.59it/s]"
     ]
    },
    {
     "name": "stdout",
     "output_type": "stream",
     "text": [
      "削除対象が見つかりました\n"
     ]
    },
    {
     "name": "stderr",
     "output_type": "stream",
     "text": [
      " 48%|█████████████████████▋                       | 18354/38113 [00:34<00:30, 651.47it/s]"
     ]
    },
    {
     "name": "stdout",
     "output_type": "stream",
     "text": [
      "削除対象が見つかりました\n"
     ]
    },
    {
     "name": "stderr",
     "output_type": "stream",
     "text": [
      " 49%|██████████████████████▏                      | 18759/38113 [00:34<00:32, 601.41it/s]"
     ]
    },
    {
     "name": "stdout",
     "output_type": "stream",
     "text": [
      "削除対象が見つかりました\n"
     ]
    },
    {
     "name": "stderr",
     "output_type": "stream",
     "text": [
      " 50%|██████████████████████▌                      | 19094/38113 [00:35<00:37, 502.86it/s]"
     ]
    },
    {
     "name": "stdout",
     "output_type": "stream",
     "text": [
      "削除対象が見つかりました\n"
     ]
    },
    {
     "name": "stderr",
     "output_type": "stream",
     "text": [
      " 51%|██████████████████████▊                      | 19298/38113 [00:35<00:39, 479.20it/s]"
     ]
    },
    {
     "name": "stdout",
     "output_type": "stream",
     "text": [
      "削除対象が見つかりました\n"
     ]
    },
    {
     "name": "stderr",
     "output_type": "stream",
     "text": [
      " 51%|███████████████████████                      | 19494/38113 [00:36<00:39, 465.76it/s]"
     ]
    },
    {
     "name": "stdout",
     "output_type": "stream",
     "text": [
      "削除対象が見つかりました\n",
      "削除対象が見つかりました\n"
     ]
    },
    {
     "name": "stderr",
     "output_type": "stream",
     "text": [
      " 51%|███████████████████████▏                     | 19592/38113 [00:36<00:39, 468.28it/s]"
     ]
    },
    {
     "name": "stdout",
     "output_type": "stream",
     "text": [
      "削除対象が見つかりました\n",
      "削除対象が見つかりました\n"
     ]
    },
    {
     "name": "stderr",
     "output_type": "stream",
     "text": [
      " 52%|███████████████████████▍                     | 19897/38113 [00:36<00:28, 631.35it/s]"
     ]
    },
    {
     "name": "stdout",
     "output_type": "stream",
     "text": [
      "削除対象が見つかりました\n",
      "削除対象が見つかりました\n"
     ]
    },
    {
     "name": "stderr",
     "output_type": "stream",
     "text": [
      " 53%|███████████████████████▉                     | 20272/38113 [00:37<00:35, 502.40it/s]"
     ]
    },
    {
     "name": "stdout",
     "output_type": "stream",
     "text": [
      "削除対象が見つかりました\n"
     ]
    },
    {
     "name": "stderr",
     "output_type": "stream",
     "text": [
      " 54%|████████████████████████▎                    | 20549/38113 [00:38<00:34, 514.65it/s]"
     ]
    },
    {
     "name": "stdout",
     "output_type": "stream",
     "text": [
      "削除対象が見つかりました\n"
     ]
    },
    {
     "name": "stderr",
     "output_type": "stream",
     "text": [
      " 54%|████████████████████████▍                    | 20706/38113 [00:38<00:35, 488.63it/s]"
     ]
    },
    {
     "name": "stdout",
     "output_type": "stream",
     "text": [
      "削除対象が見つかりました\n"
     ]
    },
    {
     "name": "stderr",
     "output_type": "stream",
     "text": [
      " 56%|█████████████████████████▎                   | 21481/38113 [00:39<00:29, 554.50it/s]"
     ]
    },
    {
     "name": "stdout",
     "output_type": "stream",
     "text": [
      "削除対象が見つかりました\n"
     ]
    },
    {
     "name": "stderr",
     "output_type": "stream",
     "text": [
      " 57%|█████████████████████████▌                   | 21604/38113 [00:40<00:28, 585.16it/s]"
     ]
    },
    {
     "name": "stdout",
     "output_type": "stream",
     "text": [
      "削除対象が見つかりました\n",
      "削除対象が見つかりました\n"
     ]
    },
    {
     "name": "stderr",
     "output_type": "stream",
     "text": [
      " 57%|█████████████████████████▊                   | 21887/38113 [00:40<00:34, 468.34it/s]"
     ]
    },
    {
     "name": "stdout",
     "output_type": "stream",
     "text": [
      "削除対象が見つかりました\n",
      "削除対象が見つかりました\n",
      "削除対象が見つかりました\n",
      "削除対象が見つかりました\n"
     ]
    },
    {
     "name": "stderr",
     "output_type": "stream",
     "text": [
      " 58%|██████████████████████████                   | 22040/38113 [00:41<00:32, 489.74it/s]"
     ]
    },
    {
     "name": "stdout",
     "output_type": "stream",
     "text": [
      "削除対象が見つかりました\n",
      "削除対象が見つかりました\n"
     ]
    },
    {
     "name": "stderr",
     "output_type": "stream",
     "text": [
      " 58%|██████████████████████████▎                  | 22247/38113 [00:41<00:32, 484.72it/s]"
     ]
    },
    {
     "name": "stdout",
     "output_type": "stream",
     "text": [
      "削除対象が見つかりました\n"
     ]
    },
    {
     "name": "stderr",
     "output_type": "stream",
     "text": [
      " 59%|██████████████████████████▍                  | 22408/38113 [00:41<00:30, 515.03it/s]"
     ]
    },
    {
     "name": "stdout",
     "output_type": "stream",
     "text": [
      "削除対象が見つかりました\n"
     ]
    },
    {
     "name": "stderr",
     "output_type": "stream",
     "text": [
      " 59%|██████████████████████████▌                  | 22512/38113 [00:42<00:31, 491.19it/s]"
     ]
    },
    {
     "name": "stdout",
     "output_type": "stream",
     "text": [
      "削除対象が見つかりました\n"
     ]
    },
    {
     "name": "stderr",
     "output_type": "stream",
     "text": [
      " 61%|███████████████████████████▎                 | 23104/38113 [00:43<00:32, 460.09it/s]"
     ]
    },
    {
     "name": "stdout",
     "output_type": "stream",
     "text": [
      "削除対象が見つかりました\n"
     ]
    },
    {
     "name": "stderr",
     "output_type": "stream",
     "text": [
      " 61%|███████████████████████████▌                 | 23306/38113 [00:43<00:24, 597.08it/s]"
     ]
    },
    {
     "name": "stdout",
     "output_type": "stream",
     "text": [
      "削除対象が見つかりました\n"
     ]
    },
    {
     "name": "stderr",
     "output_type": "stream",
     "text": [
      " 62%|███████████████████████████▋                 | 23440/38113 [00:43<00:23, 619.61it/s]"
     ]
    },
    {
     "name": "stdout",
     "output_type": "stream",
     "text": [
      "削除対象が見つかりました\n"
     ]
    },
    {
     "name": "stderr",
     "output_type": "stream",
     "text": [
      " 62%|███████████████████████████▉                 | 23611/38113 [00:44<00:31, 457.28it/s]"
     ]
    },
    {
     "name": "stdout",
     "output_type": "stream",
     "text": [
      "削除対象が見つかりました\n"
     ]
    },
    {
     "name": "stderr",
     "output_type": "stream",
     "text": [
      " 66%|█████████████████████████████▋               | 25190/38113 [00:46<00:20, 629.60it/s]"
     ]
    },
    {
     "name": "stdout",
     "output_type": "stream",
     "text": [
      "削除対象が見つかりました\n"
     ]
    },
    {
     "name": "stderr",
     "output_type": "stream",
     "text": [
      " 67%|█████████████████████████████▉               | 25380/38113 [00:46<00:21, 583.21it/s]"
     ]
    },
    {
     "name": "stdout",
     "output_type": "stream",
     "text": [
      "削除対象が見つかりました\n"
     ]
    },
    {
     "name": "stderr",
     "output_type": "stream",
     "text": [
      " 70%|███████████████████████████████▎             | 26568/38113 [00:48<00:21, 546.09it/s]"
     ]
    },
    {
     "name": "stdout",
     "output_type": "stream",
     "text": [
      "削除対象が見つかりました\n",
      "削除対象が見つかりました\n",
      "削除対象が見つかりました\n"
     ]
    },
    {
     "name": "stderr",
     "output_type": "stream",
     "text": [
      " 70%|███████████████████████████████▌             | 26696/38113 [00:49<00:19, 589.08it/s]"
     ]
    },
    {
     "name": "stdout",
     "output_type": "stream",
     "text": [
      "削除対象が見つかりました\n"
     ]
    },
    {
     "name": "stderr",
     "output_type": "stream",
     "text": [
      " 71%|███████████████████████████████▉             | 27035/38113 [00:49<00:17, 645.65it/s]"
     ]
    },
    {
     "name": "stdout",
     "output_type": "stream",
     "text": [
      "削除対象が見つかりました\n",
      "削除対象が見つかりました\n"
     ]
    },
    {
     "name": "stderr",
     "output_type": "stream",
     "text": [
      " 72%|████████████████████████████████▍            | 27469/38113 [00:50<00:14, 726.11it/s]"
     ]
    },
    {
     "name": "stdout",
     "output_type": "stream",
     "text": [
      "削除対象が見つかりました\n",
      "削除対象が見つかりました\n"
     ]
    },
    {
     "name": "stderr",
     "output_type": "stream",
     "text": [
      " 72%|████████████████████████████████▌            | 27616/38113 [00:50<00:14, 716.17it/s]"
     ]
    },
    {
     "name": "stdout",
     "output_type": "stream",
     "text": [
      "削除対象が見つかりました\n",
      "削除対象が見つかりました\n",
      "削除対象が見つかりました\n",
      "削除対象が見つかりました\n"
     ]
    },
    {
     "name": "stderr",
     "output_type": "stream",
     "text": [
      " 73%|████████████████████████████████▊            | 27759/38113 [00:50<00:14, 696.06it/s]"
     ]
    },
    {
     "name": "stdout",
     "output_type": "stream",
     "text": [
      "削除対象が見つかりました\n"
     ]
    },
    {
     "name": "stderr",
     "output_type": "stream",
     "text": [
      " 74%|█████████████████████████████████            | 28049/38113 [00:51<00:14, 715.82it/s]"
     ]
    },
    {
     "name": "stdout",
     "output_type": "stream",
     "text": [
      "削除対象が見つかりました\n"
     ]
    },
    {
     "name": "stderr",
     "output_type": "stream",
     "text": [
      " 74%|█████████████████████████████████▎           | 28264/38113 [00:51<00:14, 685.13it/s]"
     ]
    },
    {
     "name": "stdout",
     "output_type": "stream",
     "text": [
      "削除対象が見つかりました\n"
     ]
    },
    {
     "name": "stderr",
     "output_type": "stream",
     "text": [
      " 75%|█████████████████████████████████▋           | 28512/38113 [00:51<00:17, 534.28it/s]"
     ]
    },
    {
     "name": "stdout",
     "output_type": "stream",
     "text": [
      "削除対象が見つかりました\n"
     ]
    },
    {
     "name": "stderr",
     "output_type": "stream",
     "text": [
      " 75%|█████████████████████████████████▊           | 28688/38113 [00:52<00:16, 564.55it/s]"
     ]
    },
    {
     "name": "stdout",
     "output_type": "stream",
     "text": [
      "削除対象が見つかりました\n"
     ]
    },
    {
     "name": "stderr",
     "output_type": "stream",
     "text": [
      " 76%|██████████████████████████████████           | 28818/38113 [00:52<00:15, 605.05it/s]"
     ]
    },
    {
     "name": "stdout",
     "output_type": "stream",
     "text": [
      "削除対象が見つかりました\n",
      "削除対象が見つかりました\n",
      "削除対象が見つかりました\n"
     ]
    },
    {
     "name": "stderr",
     "output_type": "stream",
     "text": [
      " 76%|██████████████████████████████████▎          | 29079/38113 [00:52<00:14, 618.52it/s]"
     ]
    },
    {
     "name": "stdout",
     "output_type": "stream",
     "text": [
      "削除対象が見つかりました\n",
      "削除対象が見つかりました\n",
      "削除対象が見つかりました\n",
      "削除対象が見つかりました\n"
     ]
    },
    {
     "name": "stderr",
     "output_type": "stream",
     "text": [
      " 78%|███████████████████████████████████          | 29680/38113 [00:53<00:16, 518.00it/s]"
     ]
    },
    {
     "name": "stdout",
     "output_type": "stream",
     "text": [
      "削除対象が見つかりました\n"
     ]
    },
    {
     "name": "stderr",
     "output_type": "stream",
     "text": [
      " 78%|███████████████████████████████████▏         | 29785/38113 [00:54<00:16, 510.89it/s]"
     ]
    },
    {
     "name": "stdout",
     "output_type": "stream",
     "text": [
      "削除対象が見つかりました\n",
      "削除対象が見つかりました\n",
      "削除対象が見つかりました\n"
     ]
    },
    {
     "name": "stderr",
     "output_type": "stream",
     "text": [
      " 79%|███████████████████████████████████▊         | 30295/38113 [00:55<00:16, 470.65it/s]"
     ]
    },
    {
     "name": "stdout",
     "output_type": "stream",
     "text": [
      "削除対象が見つかりました\n"
     ]
    },
    {
     "name": "stderr",
     "output_type": "stream",
     "text": [
      " 80%|███████████████████████████████████▉         | 30392/38113 [00:55<00:17, 451.33it/s]"
     ]
    },
    {
     "name": "stdout",
     "output_type": "stream",
     "text": [
      "削除対象が見つかりました\n"
     ]
    },
    {
     "name": "stderr",
     "output_type": "stream",
     "text": [
      " 81%|████████████████████████████████████▎        | 30792/38113 [00:56<00:15, 481.33it/s]"
     ]
    },
    {
     "name": "stdout",
     "output_type": "stream",
     "text": [
      "削除対象が見つかりました\n",
      "削除対象が見つかりました\n"
     ]
    },
    {
     "name": "stderr",
     "output_type": "stream",
     "text": [
      " 82%|████████████████████████████████████▊        | 31212/38113 [00:57<00:14, 487.41it/s]"
     ]
    },
    {
     "name": "stdout",
     "output_type": "stream",
     "text": [
      "削除対象が見つかりました\n"
     ]
    },
    {
     "name": "stderr",
     "output_type": "stream",
     "text": [
      " 82%|█████████████████████████████████████        | 31367/38113 [00:57<00:13, 500.09it/s]"
     ]
    },
    {
     "name": "stdout",
     "output_type": "stream",
     "text": [
      "削除対象が見つかりました\n",
      "削除対象が見つかりました\n"
     ]
    },
    {
     "name": "stderr",
     "output_type": "stream",
     "text": [
      " 84%|█████████████████████████████████████▌       | 31829/38113 [00:58<00:10, 620.76it/s]"
     ]
    },
    {
     "name": "stdout",
     "output_type": "stream",
     "text": [
      "削除対象が見つかりました\n"
     ]
    },
    {
     "name": "stderr",
     "output_type": "stream",
     "text": [
      " 85%|██████████████████████████████████████▏      | 32366/38113 [00:59<00:08, 656.85it/s]"
     ]
    },
    {
     "name": "stdout",
     "output_type": "stream",
     "text": [
      "削除対象が見つかりました\n"
     ]
    },
    {
     "name": "stderr",
     "output_type": "stream",
     "text": [
      " 86%|██████████████████████████████████████▌      | 32644/38113 [00:59<00:08, 640.50it/s]"
     ]
    },
    {
     "name": "stdout",
     "output_type": "stream",
     "text": [
      "削除対象が見つかりました\n"
     ]
    },
    {
     "name": "stderr",
     "output_type": "stream",
     "text": [
      " 86%|██████████████████████████████████████▉      | 32928/38113 [00:59<00:07, 687.33it/s]"
     ]
    },
    {
     "name": "stdout",
     "output_type": "stream",
     "text": [
      "削除対象が見つかりました\n",
      "削除対象が見つかりました\n"
     ]
    },
    {
     "name": "stderr",
     "output_type": "stream",
     "text": [
      " 87%|███████████████████████████████████████      | 33067/38113 [01:00<00:07, 647.22it/s]"
     ]
    },
    {
     "name": "stdout",
     "output_type": "stream",
     "text": [
      "削除対象が見つかりました\n",
      "削除対象が見つかりました\n",
      "削除対象が見つかりました\n"
     ]
    },
    {
     "name": "stderr",
     "output_type": "stream",
     "text": [
      " 88%|███████████████████████████████████████▋     | 33655/38113 [01:01<00:06, 653.53it/s]"
     ]
    },
    {
     "name": "stdout",
     "output_type": "stream",
     "text": [
      "削除対象が見つかりました\n",
      "削除対象が見つかりました\n"
     ]
    },
    {
     "name": "stderr",
     "output_type": "stream",
     "text": [
      " 90%|████████████████████████████████████████▎    | 34155/38113 [01:01<00:05, 682.14it/s]"
     ]
    },
    {
     "name": "stdout",
     "output_type": "stream",
     "text": [
      "削除対象が見つかりました\n"
     ]
    },
    {
     "name": "stderr",
     "output_type": "stream",
     "text": [
      " 90%|████████████████████████████████████████▋    | 34431/38113 [01:02<00:05, 679.53it/s]"
     ]
    },
    {
     "name": "stdout",
     "output_type": "stream",
     "text": [
      "削除対象が見つかりました\n"
     ]
    },
    {
     "name": "stderr",
     "output_type": "stream",
     "text": [
      " 92%|█████████████████████████████████████████▎   | 34944/38113 [01:03<00:04, 690.33it/s]"
     ]
    },
    {
     "name": "stdout",
     "output_type": "stream",
     "text": [
      "削除対象が見つかりました\n"
     ]
    },
    {
     "name": "stderr",
     "output_type": "stream",
     "text": [
      " 93%|█████████████████████████████████████████▋   | 35307/38113 [01:03<00:04, 666.37it/s]"
     ]
    },
    {
     "name": "stdout",
     "output_type": "stream",
     "text": [
      "削除対象が見つかりました\n"
     ]
    },
    {
     "name": "stderr",
     "output_type": "stream",
     "text": [
      " 93%|█████████████████████████████████████████▊   | 35436/38113 [01:03<00:04, 579.65it/s]"
     ]
    },
    {
     "name": "stdout",
     "output_type": "stream",
     "text": [
      "削除対象が見つかりました\n",
      "削除対象が見つかりました\n"
     ]
    },
    {
     "name": "stderr",
     "output_type": "stream",
     "text": [
      " 95%|██████████████████████████████████████████▊  | 36303/38113 [01:05<00:03, 497.55it/s]"
     ]
    },
    {
     "name": "stdout",
     "output_type": "stream",
     "text": [
      "削除対象が見つかりました\n"
     ]
    },
    {
     "name": "stderr",
     "output_type": "stream",
     "text": [
      " 96%|██████████████████████████████████████████▉  | 36404/38113 [01:05<00:03, 484.25it/s]"
     ]
    },
    {
     "name": "stdout",
     "output_type": "stream",
     "text": [
      "削除対象が見つかりました\n"
     ]
    },
    {
     "name": "stderr",
     "output_type": "stream",
     "text": [
      " 97%|███████████████████████████████████████████▍ | 36807/38113 [01:06<00:02, 529.66it/s]"
     ]
    },
    {
     "name": "stdout",
     "output_type": "stream",
     "text": [
      "削除対象が見つかりました\n",
      "削除対象が見つかりました\n"
     ]
    },
    {
     "name": "stderr",
     "output_type": "stream",
     "text": [
      " 97%|███████████████████████████████████████████▊ | 37076/38113 [01:06<00:01, 646.87it/s]"
     ]
    },
    {
     "name": "stdout",
     "output_type": "stream",
     "text": [
      "削除対象が見つかりました\n",
      "削除対象が見つかりました\n"
     ]
    },
    {
     "name": "stderr",
     "output_type": "stream",
     "text": [
      " 99%|████████████████████████████████████████████▎| 37577/38113 [01:07<00:00, 561.18it/s]"
     ]
    },
    {
     "name": "stdout",
     "output_type": "stream",
     "text": [
      "削除対象が見つかりました\n"
     ]
    },
    {
     "name": "stderr",
     "output_type": "stream",
     "text": [
      "100%|█████████████████████████████████████████████| 38113/38113 [01:08<00:00, 554.83it/s]\n"
     ]
    }
   ],
   "source": [
    "X=[]\n",
    "Y=[]\n",
    "\n",
    "flagS=[]\n",
    "flagC=[]\n",
    "flagG=[]\n",
    "\n",
    "null_feature = 0\n",
    "\n",
    "for f in tqdm(glob.glob(in_folder)):\n",
    "    with open(f) as csv_file:\n",
    "        #ここで読み取るCSVには一行目のx_y_angleなどの情報が入っている\n",
    "        coordinate_data = list(csv.reader(csv_file,delimiter=\",\"))\n",
    "        #二行目の値のみを取り出す\n",
    "        coordinate_data=coordinate_data[1]\n",
    "\n",
    "        '''\n",
    "        このとき空白文字を含むデータだったら、使用することができないためそれを\n",
    "        検出し、appendを実施しない\n",
    "        '''\n",
    "        delete_flag = 0\n",
    "        for i in range(len(coordinate_data)):\n",
    "            if not coordinate_data[i]:\n",
    "                delete_flag = 1\n",
    "        if delete_flag == 1:\n",
    "            null_feature += 1\n",
    "            continue\n",
    "        #データに追加していく\n",
    "        X.append(coordinate_data)\n",
    "        try:\n",
    "            Y.append(int(f.split(\"/\")[4].split(\"_\")[2].split(\".\")[0]))\n",
    "        except:\n",
    "            Y.append(int(f.split(\"/\")[4].split(\"_\")[2].split(\".\")[0].split(\"(\")[0]))"
   ]
  },
  {
   "cell_type": "markdown",
   "id": "eb3492de-9220-4306-b64a-78bb9a5a495c",
   "metadata": {},
   "source": [
    "## train_test_split してnumpyのfloat配列に変換する"
   ]
  },
  {
   "cell_type": "code",
   "execution_count": 6,
   "id": "8cc3f489-dae4-443b-b4ca-8af6e9606558",
   "metadata": {},
   "outputs": [
    {
     "name": "stdout",
     "output_type": "stream",
     "text": [
      "nullが入り向こうとなった特徴値ファイルは 157個でした\n",
      "ok\n"
     ]
    }
   ],
   "source": [
    "#学習データとテストデータに分けて、それをnumpyに変換する\n",
    "print(\"nullが入り向こうとなった特徴値ファイルは \" + str(null_feature) + \"個でした\")\n",
    "\n",
    "X_train,X_test,y_train,y_test =train_test_split(X,Y,test_size=0.3,random_state=0)\n",
    "\n",
    "#''の何も入っていないところでエラーが出てしまうので飛ばす\n",
    "#ただ削除するだけだと、削除したところからインデックスがずれてしまうので、後ろから削除する必要がある\n",
    "#X_trainは三次元のデータになっていることがわかったので、それを解決しなければいけいない\n",
    "\n",
    "X_train=np.array(X_train).astype(np.float32)\n",
    "y_train=np.array(y_train)\n",
    "X_test=np.array(X_test).astype(np.float32)\n",
    "y_test=np.array(y_test)\n",
    "\n",
    "print(\"ok\")\n"
   ]
  },
  {
   "cell_type": "markdown",
   "id": "1a9a7f9e-29b4-4fc0-8664-c5f61588598d",
   "metadata": {},
   "source": [
    "## 用意したパラメータのすべての組み合わせで学習する"
   ]
  },
  {
   "cell_type": "code",
   "execution_count": null,
   "id": "3d94a407-6528-4945-a1f2-5821dc82133d",
   "metadata": {},
   "outputs": [
    {
     "name": "stderr",
     "output_type": "stream",
     "text": [
      "/usr/local/lib/python3.10/site-packages/sklearn/model_selection/_split.py:684: UserWarning: The least populated class in y has only 1 members, which is less than n_splits=10.\n",
      "  warnings.warn(\n"
     ]
    }
   ],
   "source": [
    "\n",
    "\n",
    "for i in range(4):\n",
    "   if i == 0:\n",
    "         C=C1\n",
    "   if i == 1:\n",
    "         C=C2\n",
    "   if i == 2:\n",
    "         C=C3\n",
    "   if i == 3:\n",
    "         C=C4\n",
    "   for j in range(6):\n",
    "         if j == 0:\n",
    "            gamma=gamma1\n",
    "         if j == 1:\n",
    "            gamma=gamma2\n",
    "         if j == 2:\n",
    "            gamma=gamma3\n",
    "         if j == 3:\n",
    "            gamma=gamma4\n",
    "         if j == 4:\n",
    "            gamma=gamma5\n",
    "         if j == 5:\n",
    "            gamma=gamma6\n",
    "      \n",
    "         classifier = SVC(kernel=\"rbf\",C=C,gamma=gamma)\n",
    "         scores = cross_val_score(classifier,X_train,y_train,cv=10)\n",
    "         print(\"各正解率=\",scores)\n",
    "         meanscore=scores.mean()\n",
    "         flagS.append(meanscore)\n",
    "         flagC.append(C)\n",
    "         flagG.append(gamma)\n",
    "         print(\"正解率＝\",meanscore)\n",
    "         print(\"C=\",C,\"γ=\",gamma)\n",
    "         print(\"-------------------------------\")\n"
   ]
  },
  {
   "cell_type": "markdown",
   "id": "f4231d62-4d5a-48c1-b1f8-51a00ef8ad96",
   "metadata": {},
   "source": [
    "## 一番良かったときの詳細を表示する"
   ]
  },
  {
   "cell_type": "code",
   "execution_count": null,
   "id": "254c6733-4408-4979-8211-a25faa6aa29a",
   "metadata": {},
   "outputs": [],
   "source": [
    "\n",
    "maxacc=max(flagS)\n",
    "num=flagS.index(maxacc)\n",
    "C=flagC[num]\n",
    "gamma=flagG[num]\n",
    "\n",
    "classifier = SVC(kernel=\"rbf\",C=C,gamma=gamma)\n",
    "classifier.fit(X_train,y_train)\n",
    "#filename=\"svm.model\"\n",
    "#pickle.dump(classifier,open(filename,'wb'))\n",
    "y_pred = classifier.predict(X_test)\n",
    "print(\"Test accuracy:\",accuracy_score(y_test,y_pred))\n",
    "print(\"C=\",C,\"γ=\",gamma)"
   ]
  }
 ],
 "metadata": {
  "kernelspec": {
   "display_name": "Python 3 (ipykernel)",
   "language": "python",
   "name": "python3"
  },
  "language_info": {
   "codemirror_mode": {
    "name": "ipython",
    "version": 3
   },
   "file_extension": ".py",
   "mimetype": "text/x-python",
   "name": "python",
   "nbconvert_exporter": "python",
   "pygments_lexer": "ipython3",
   "version": "3.10.8"
  }
 },
 "nbformat": 4,
 "nbformat_minor": 5
}
